{
 "cells": [
  {
   "cell_type": "markdown",
   "metadata": {},
   "source": [
    "# Linking linear diffusion and fluvial incision, using steady state hydrology\n",
    "\n",
    "Versions of this model are common in the landscape evolution literature. Linear diffusion (e.g. Tucker and Bras, 1998, WRR, available <a href=\"http://onlinelibrary.wiley.com/doi/10.1029/98WR01474/full\">here</a>) and detachment-limited incision (e.g. Howard, 1994, WRR, available <a href=\"http://onlinelibrary.wiley.com/doi/10.1029/94WR00757/full\">here</a>) are operating everywhere on the landscape. Process competition leads to convex hillslopes at lower drainage area and concave channels at higher drainage area. Both of the suggested papers have great illustrations of these process interactions.\n",
    "\n",
    "In this example, some illustrative things to change might be: \n",
    "  * hillslope diffusivity \n",
    "  * the stream-power coefficient and/or exponents \n",
    "  * uplift rate\n",
    "  * the flow routing method\n",
    "  * grid size\n",
    "  * boundary conditions\n",
    "  * your idea here!\n",
    "\n"
   ]
  },
  {
   "cell_type": "markdown",
   "metadata": {},
   "source": [
    "#### Landlab Basics \n",
    "To use a Jupyter Notebook to run Landlab, first we import the libraries (code) we need from Landlab, as well as standard plotting functions and numpy.   <br/> \n",
    "In Landlab, processes are called components.<br/> \n",
    "Every component is a class. <br/> \n",
    "The grid is also a class.<br/>  "
   ]
  },
  {
   "cell_type": "markdown",
   "metadata": {},
   "source": [
    "### Import Landlab and plotting libraries"
   ]
  },
  {
   "cell_type": "code",
   "execution_count": null,
   "metadata": {
    "collapsed": true
   },
   "outputs": [],
   "source": [
    "from landlab.plot import imshow_grid\n",
    "from landlab import RasterModelGrid, CLOSED_BOUNDARY, FIXED_VALUE_BOUNDARY\n",
    "from landlab.components import FlowRouter, FastscapeEroder, LinearDiffuser\n",
    "from matplotlib.pyplot import figure, show, plot, xlabel, ylabel, title\n",
    "from matplotlib import pyplot as plt\n",
    "%matplotlib inline \n",
    "\n",
    "import numpy as np"
   ]
  },
  {
   "cell_type": "markdown",
   "metadata": {},
   "source": [
    "### Set up initial topography\n",
    "* Instantiate a grid object, here we call it `mg`.\n",
    "\n",
    "* Set the boundary conditions. In this case the top and bottom edges are fixed value, or open (water and sediment can pass out of the top and bottom boundaries). The right and left edges are closed.\n",
    "\n",
    "* Make a rough surface as the initial topography.\n",
    "\n",
    "* Make a plot to see the initial topography."
   ]
  },
  {
   "cell_type": "code",
   "execution_count": null,
   "metadata": {
    "collapsed": false
   },
   "outputs": [],
   "source": [
    "mg = RasterModelGrid((200, 150), 50.) # The grid is 200 rows by 100 columns, with dx = dy = 50 m.\n",
    "\n",
    "for edge in (mg.nodes_at_left_edge, mg.nodes_at_right_edge):\n",
    "             mg.status_at_node[edge] = CLOSED_BOUNDARY\n",
    "for edge in (mg.nodes_at_top_edge, mg.nodes_at_bottom_edge):\n",
    "             mg.status_at_node[edge] = FIXED_VALUE_BOUNDARY\n",
    "        \n",
    "z = mg.add_zeros('node', 'topographic__elevation')\n",
    "initial_roughness = np.random.rand(mg.core_nodes.size)/100000.\n",
    "mg.at_node['topographic__elevation'][mg.core_nodes] += initial_roughness\n",
    "\n",
    "imshow_grid(mg, z, grid_units=['m','m'], var_name='Elevation (m)')  "
   ]
  },
  {
   "cell_type": "markdown",
   "metadata": {},
   "source": [
    "### Intitalize time and uplift for the model run.\n",
    "\n",
    "* Note that units are not imposed by many of the Landlab components, and the grid has no assumed units.\n",
    "* In our case, with the `FastscapeEroder`, we just need to enter values with consistent units.\n",
    "* For example, the grid was made with an assumed dx in meters. Time values are in years. So the erodibility coefficient in the `FastscapeEroder` should have units of meters and years."
   ]
  },
  {
   "cell_type": "code",
   "execution_count": null,
   "metadata": {
    "collapsed": true
   },
   "outputs": [],
   "source": [
    "total_t = 300000. # years\n",
    "dt = 5000 # years\n",
    "nt = int(total_t // dt) # number of time steps\n",
    "\n",
    "uplift_rate = 0.001 # m/yr\n",
    "uplift_per_step = uplift_rate * dt # depth (m) of uplift per timestep"
   ]
  },
  {
   "cell_type": "markdown",
   "metadata": {},
   "source": [
    "### Instantiate the components for this model\n",
    "In this case the difference components are:\n",
    "  * `FlowRouter` which determines the drainage area at each point. In this case we are using `D8` to determine downslope neighbors.\n",
    "  * `FastscapeEroder` which calculates the incision rate based on a power-law function of discharge and slope. This uses the Braun and Willet algorithm, reference <a href=\"http://www.sciencedirect.com/science/article/pii/S0169555X12004618\">here</a>)\n",
    "  * `LinearDiffusers` which calculates erosion and deposition of material using a sediment transport rate which is proportional to the slope. Here we do not allow diffusion to deposit, but you can change that.\n",
    "  * Note that in the case of `FastscapeEroder`, the values are noted when the class is instantiated. In the case of the `LinearDiffuser`, the value is assigned to a variable and that variable is sent to the class. There are multiple ways to do things, depending on your coding style and what makes sense to you."
   ]
  },
  {
   "cell_type": "code",
   "execution_count": null,
   "metadata": {
    "collapsed": true
   },
   "outputs": [],
   "source": [
    "fr = FlowRouter(mg, method='D8')\n",
    "sp = FastscapeEroder(mg, K_sp=0.00005, m_sp=0.5, n_sp=1.0, threshold_sp=0.,\n",
    "                    rainfall_intensity=1.)\n",
    "                    \n",
    "k_d = 0.5\n",
    "lin_diffuse = LinearDiffuser(mg, linear_diffusivity=k_d )"
   ]
  },
  {
   "cell_type": "markdown",
   "metadata": {},
   "source": [
    "* The calculations are all done in the time loop below."
   ]
  },
  {
   "cell_type": "code",
   "execution_count": null,
   "metadata": {
    "collapsed": false
   },
   "outputs": [],
   "source": [
    "for i in range(nt):\n",
    "    fr.run_one_step() # route flow\n",
    "    sp.run_one_step(dt) # fluvial incision\n",
    "    lin_diffuse.run_one_step(dt) # linear diffusion\n",
    "    mg.at_node['topographic__elevation'][mg.core_nodes] += uplift_per_step # add the uplift\n",
    "    \n",
    "    if i % 20 == 0:\n",
    "      print (\"Completed loop \", i, \" out of \", nt)"
   ]
  },
  {
   "cell_type": "markdown",
   "metadata": {},
   "source": [
    "### Visualize the results.\n",
    "  * First we plot the topography after the time loop.\n",
    "  * Second we plot the slope-area relationship, which is often used to identify hillslopes, channels, and quantify drainage density."
   ]
  },
  {
   "cell_type": "code",
   "execution_count": null,
   "metadata": {
    "collapsed": false
   },
   "outputs": [],
   "source": [
    "plt.figure(1)    \n",
    "imshow_grid(mg, 'topographic__elevation', grid_units=['m','m'], var_name='Elevation (m)')\n",
    "plt.title('Evolved Topography')\n",
    "plt.show()\n",
    "plt.figure(2)\n",
    "plt.loglog(mg.at_node['drainage_area'][mg.core_nodes],mg.at_node['topographic__steepest_slope'][mg.core_nodes],'k.')\n",
    "plt.xlabel('drainage area (m^2)')\n",
    "plt.ylabel('slope (m/m)')\n",
    "plt.title('Slope-Area Plot')\n",
    "plt.show()"
   ]
  },
  {
   "cell_type": "markdown",
   "metadata": {},
   "source": [
    "### Edit the model and rerun it. \n",
    "* Remember if you edit any of the code, you need to re-run the edited code block.\n",
    "* If you re-run the time loop, it will operate on the existing topography. If you want to start over on a flat surface, then you need to re-run the code block that instantiated the grid."
   ]
  },
  {
   "cell_type": "code",
   "execution_count": null,
   "metadata": {
    "collapsed": true
   },
   "outputs": [],
   "source": []
  }
 ],
 "metadata": {
  "anaconda-cloud": {},
  "kernelspec": {
   "display_name": "Python [conda root]",
   "language": "python",
   "name": "conda-root-py"
  },
  "language_info": {
   "codemirror_mode": {
    "name": "ipython",
    "version": 2
   },
   "file_extension": ".py",
   "mimetype": "text/x-python",
   "name": "python",
   "nbconvert_exporter": "python",
   "pygments_lexer": "ipython2",
   "version": "2.7.12"
  }
 },
 "nbformat": 4,
 "nbformat_minor": 1
}
