{
 "cells": [
  {
   "cell_type": "markdown",
   "metadata": {},
   "source": [
    "<a href=\"http://landlab.github.io\"><img style=\"float: left\" src=\"https://raw.githubusercontent.com/landlab/tutorials/master/landlab_header.png\"></a>"
   ]
  },
  {
   "cell_type": "markdown",
   "metadata": {},
   "source": [
    "# Modeling ecohydrological response to a storm event"
   ]
  },
  {
   "cell_type": "markdown",
   "metadata": {},
   "source": [
    "This Landlab driver illustrates the use of Landlab ecohydrology components to model semi-arid ecohydrological dynamics driven by a storm pulse and solar radiation. Components (names given in parenthesis) we will use are:\n",
    "* Solar radiation (Radiation)\n",
    "* Potential Evapotranspiration (PotentialEvapotranspiration)\n",
    "* Soil Moisture (SoilMoisture)\n",
    "* Vegetation (Vegetation)\n",
    "A digital elevation model (DEM) of a headwater region in central New Mexico (latitude 34N) will be used as input. \n",
    "Components will be introduced step by step. First, we will start with mapping solar radiation and potential evapotranspiration (PET). Note that some of the commands used are only to provide information about the in/outputs of components and can be deleted or not run. We will then run soil moisture and vegetation modules and show how to write outputs in a file.\n",
    "\n",
    "Let’s being importing python libraries, Landlab components, and python plotting tools "
   ]
  },
  {
   "cell_type": "code",
   "execution_count": null,
   "metadata": {
    "collapsed": true
   },
   "outputs": [],
   "source": [
    "import numpy as np\n",
    "from landlab.components import (PrecipitationDistribution,\n",
    "                                Radiation, PotentialEvapotranspiration,\n",
    "                                SoilMoisture, Vegetation)\n",
    "from landlab.io import read_esri_ascii\n",
    "from landlab.plot import imshow_grid\n",
    "%matplotlib inline\n",
    "from landlab.plot.imshow import imshow_grid\n",
    "import matplotlib.pyplot as plt\n",
    "plt.show()"
   ]
  },
  {
   "cell_type": "markdown",
   "metadata": {},
   "source": [
    "Read an existing esri grid as watershed and map the elevation field"
   ]
  },
  {
   "cell_type": "code",
   "execution_count": null,
   "metadata": {
    "collapsed": false
   },
   "outputs": [],
   "source": [
    "(watershed, z)=read_esri_ascii('DEM_10m.asc', name='topographic__elevation')\n",
    "imshow_grid(watershed, 'topographic__elevation')"
   ]
  },
  {
   "cell_type": "code",
   "execution_count": null,
   "metadata": {
    "collapsed": true
   },
   "outputs": [],
   "source": [
    "# Inputs for spatio-temporal Ecohydrology Model\n",
    "n = 150   # Number of storms\n",
    "current_time = 0            # Initial time in years\n",
    "doy__start_of_monsoon = 182  # Record the start day of monsoon (Julian day)\n",
    "doy__end_of_monsoon = 273    # Record the ending day of monsoon (Julian day)\n",
    "vegetation_type=0                 # grass=0, shrub=1, tree=2, bare=3\n",
    "vegetation_cover=0.5;             # initial vegetation ground cover fraction (0-1) keep this fixed, updated when the vegetation model is used\n",
    "initial_soil_saturation=0.3;      # initial soil saturation in the root zone (0-1)\n",
    "initial_live_biomass=30.        # Initial live biomass in g DM m^-2\n",
    "initial_dead_biomass=30.        # Initial dead biomass in g DM m^-2\n",
    "\n",
    "# Initialize fields for SoilMoisture and Vegetation components\n",
    "watershed.at_cell['vegetation__plant_functional_type']= (\n",
    "    vegetation_type * np.ones(watershed.number_of_cells, dtype=int))\n",
    "watershed.at_cell['soil_moisture__initial_saturation_fraction']=(\n",
    "    initial_soil_saturation*np.ones(watershed.number_of_cells))\n",
    "watershed.at_cell['vegetation__cover_fraction']=(\n",
    "    vegetation_cover*np.ones(watershed.number_of_cells))\n",
    "\n",
    "# Create empty arrays to hold spatio-temporal data\n",
    "precip = np.empty([n])\n",
    "storm_dt = np.empty([n])\n",
    "inter_storm_dt = np.empty([n])\n",
    "sm_saturation_fraction = np.empty([n, watershed.number_of_cells])\n",
    "veg_live_leaf_area_index = np.empty([n, watershed.number_of_cells])\n",
    "veg_live_biomass = np.empty([n, watershed.number_of_cells])"
   ]
  },
  {
   "cell_type": "code",
   "execution_count": null,
   "metadata": {
    "collapsed": true
   },
   "outputs": [],
   "source": [
    "# Instantiate classes\n",
    "# We shall create storms with different characteristics\n",
    "# for dry season and monsoon seasoon\n",
    "# Instantiating PrecipitationDistribution component for dry season\n",
    "precip_dry = PrecipitationDistribution(mean_storm_duration=2.016,\n",
    "                                       mean_interstorm_duration=159.36,\n",
    "                                       mean_storm_depth=3.07)\n",
    "# Instantiating PrecipitationDistribution component for monsoon season\n",
    "precip_wet = PrecipitationDistribution(mean_storm_duration=1.896,\n",
    "                                       mean_interstorm_duration=84.24,\n",
    "                                       mean_storm_depth=4.79)\n",
    "# Instantiate radiation component\n",
    "rad = Radiation(watershed, method='Grid', latitude=34.)\n",
    "# Instantiate potential evapotranspiration component and\n",
    "# use 'Cosine' method\n",
    "pet_grass = PotentialEvapotranspiration(watershed, method='Cosine',\n",
    "                                        MeanTmaxF=4.96, delta_d=7.)\n",
    "soil_moisture = SoilMoisture(watershed, runon=1, f_bare=0.7)\n",
    "vegetation = Vegetation(watershed, Blive_init=initial_live_biomass,\n",
    "                        Bdead_init=initial_dead_biomass)"
   ]
  },
  {
   "cell_type": "code",
   "execution_count": null,
   "metadata": {
    "collapsed": true
   },
   "outputs": [],
   "source": [
    "# Run time loop - storm loop\n",
    "for i in range(0, n):\n",
    "    # Calculate the Julian day to identify the season\n",
    "    julian = np.int(np.floor((current_time - np.floor(current_time)) * 365.))\n",
    "    # Generate seasonal storms\n",
    "    # for Dry season\n",
    "    if doy__start_of_monsoon <= julian <= doy__end_of_monsoon:\n",
    "        precip_wet.update()\n",
    "        precip[i] = precip_wet.get_storm_depth()\n",
    "        storm_dt[i] = precip_wet.get_precipitation_event_duration()\n",
    "        inter_storm_dt[i] = precip_wet.get_interstorm_event_duration()\n",
    "    # Wet Season—Jul to Sep—NA Monsoon\n",
    "    else:\n",
    "        precip_dry.update()\n",
    "        precip[i] = precip_dry.get_storm_depth()\n",
    "        storm_dt[i] = precip_dry.get_precipitation_event_duration()\n",
    "        inter_storm_dt[i] = precip_dry.get_interstorm_event_duration()\n",
    "    watershed.at_cell['rainfall__daily_depth'] = (precip[i] *\n",
    "        np.ones(watershed.number_of_cells))\n",
    "    rad.update(current_time)\n",
    "    pet_grass.update(current_time)\n",
    "    watershed.at_cell['surface__potential_evapotranspiration_30day_mean'] = (\n",
    "        watershed['cell']['surface__potential_evapotranspiration_rate'])\n",
    "    current_time = soil_moisture.update(current_time, Tb=inter_storm_dt[i],\n",
    "                                        Tr=storm_dt[i])\n",
    "    sm_saturation_fraction[i] = (\n",
    "        watershed.at_cell['soil_moisture__saturation_fraction'])\n",
    "    vegetation.update(Tb=inter_storm_dt[i], Tr=storm_dt[i])\n",
    "    veg_live_leaf_area_index[i] = (\n",
    "        watershed.at_cell['vegetation__live_leaf_area_index'])\n",
    "    veg_live_biomass[i] = (\n",
    "        watershed.at_cell['vegetation__live_biomass'])"
   ]
  },
  {
   "cell_type": "markdown",
   "metadata": {},
   "source": [
    "# Plot figures"
   ]
  },
  {
   "cell_type": "markdown",
   "metadata": {},
   "source": [
    "Lets find two random cells, one on north facing slope and one on south facing cells to plot model outputs for."
   ]
  },
  {
   "cell_type": "code",
   "execution_count": null,
   "metadata": {
    "collapsed": true
   },
   "outputs": [],
   "source": [
    "# Calculate slopes and aspects - and categorize\n",
    "slope, aspect = watershed.calculate_slope_aspect_at_nodes_burrough(vals='topographic__elevation')\n",
    "slope = np.degrees(slope)\n",
    "aspect = np.degrees(aspect)\n",
    "aspect = np.remainder(aspect, 360.)\n",
    "# Aspect categorization\n",
    "north_slopes = np.where(np.logical_or(aspect>=315., aspect<45.) == True)[0]\n",
    "south_slopes = np.where(np.logical_and(aspect>=135, aspect<225) == True)[0]"
   ]
  },
  {
   "cell_type": "code",
   "execution_count": null,
   "metadata": {
    "collapsed": false
   },
   "outputs": [],
   "source": [
    "# Check how many cells are north-facing\n",
    "north_slopes.shape"
   ]
  },
  {
   "cell_type": "code",
   "execution_count": null,
   "metadata": {
    "collapsed": true
   },
   "outputs": [],
   "source": [
    "# Select a random north-facing cell\n",
    "random_north_facing_cell = north_slopes[500]"
   ]
  },
  {
   "cell_type": "code",
   "execution_count": null,
   "metadata": {
    "collapsed": false
   },
   "outputs": [],
   "source": [
    "# Check how many cells are south-facing\n",
    "south_slopes.shape"
   ]
  },
  {
   "cell_type": "code",
   "execution_count": null,
   "metadata": {
    "collapsed": true
   },
   "outputs": [],
   "source": [
    "# Select a random south-facing cell\n",
    "random_south_facing_cell = south_slopes[500]"
   ]
  },
  {
   "cell_type": "code",
   "execution_count": null,
   "metadata": {
    "collapsed": false
   },
   "outputs": [],
   "source": [
    "# Plot Soil Moisture Saturation Fraction (Theta)\n",
    "plt.figure()\n",
    "plt.plot(sm_saturation_fraction[:, random_north_facing_cell], 'b',\n",
    "         label='North Facing Cell')\n",
    "plt.plot(sm_saturation_fraction[:, random_south_facing_cell], 'r',\n",
    "         label='South Facing Cell')\n",
    "plt.xlabel('Storm Number')\n",
    "plt.ylabel('Soil Moisture Saturation Fraction (Theta)')\n",
    "plt.xlim(xmin=0, xmax=n)\n",
    "plt.ylim(ymin=0, ymax=1)\n",
    "plt.legend(loc=1)"
   ]
  },
  {
   "cell_type": "markdown",
   "metadata": {},
   "source": [
    "Now lets plot the figures!"
   ]
  },
  {
   "cell_type": "code",
   "execution_count": null,
   "metadata": {
    "collapsed": false
   },
   "outputs": [],
   "source": [
    "# Plot live leaf area index\n",
    "plt.figure()\n",
    "plt.plot(veg_live_leaf_area_index[:, random_north_facing_cell], 'b',\n",
    "         label='North Facing Cell')\n",
    "plt.plot(veg_live_leaf_area_index[:, random_south_facing_cell], 'r',\n",
    "         label='South Facing Cell')\n",
    "plt.xlabel('Storm Number')\n",
    "plt.ylabel('Live Leaf Area Index')\n",
    "plt.xlim(xmin=0, xmax=n)\n",
    "plt.ylim(ymin=0, ymax=1.5)\n",
    "plt.legend(loc=1)"
   ]
  },
  {
   "cell_type": "code",
   "execution_count": null,
   "metadata": {
    "collapsed": false
   },
   "outputs": [],
   "source": [
    "# Plot live biomass (g m^-2 d^-1)\n",
    "plt.figure()\n",
    "plt.plot(veg_live_biomass[:, random_north_facing_cell], 'b',\n",
    "         label='North Facing Cell')\n",
    "plt.plot(veg_live_biomass[:, random_south_facing_cell], 'r',\n",
    "         label='South Facing Cell')\n",
    "plt.xlabel('Storm Number')\n",
    "plt.ylabel('Live Biomass')\n",
    "plt.xlim(xmin=0, xmax=n)\n",
    "plt.ylim(ymin=0)\n",
    "plt.legend(loc=1)"
   ]
  }
 ],
 "metadata": {
  "anaconda-cloud": {},
  "kernelspec": {
   "display_name": "Python [default]",
   "language": "python",
   "name": "python2"
  },
  "language_info": {
   "codemirror_mode": {
    "name": "ipython",
    "version": 2
   },
   "file_extension": ".py",
   "mimetype": "text/x-python",
   "name": "python",
   "nbconvert_exporter": "python",
   "pygments_lexer": "ipython2",
   "version": "2.7.12"
  }
 },
 "nbformat": 4,
 "nbformat_minor": 1
}
