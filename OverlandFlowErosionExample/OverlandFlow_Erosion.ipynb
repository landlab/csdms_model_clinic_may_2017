{
 "cells": [
  {
   "cell_type": "markdown",
   "metadata": {},
   "source": [
    "# Linking overland flow and fluvial erosion\n",
    "\n",
    "This model is taken from the results presented by Jordan M. Adams et al., 2017, *Geoscientific Model Development*, available <a href=\"https://orca.cf.ac.uk/99128/7/gmd-10-1645-2017.pdf\">here</a>.\n",
    "\n",
    "It links two Landlab components - *OverlandFlow* and *DetachmentLtdErosion*.\n",
    "* *OverlandFlow* implements in Landlab the algorithm presented by de Almeida et al., (2012), *Water Resources Research*, available <a href=\"http://onlinelibrary.wiley.com/doi/10.1029/2011WR011570/full\">here</a>.\n",
    "* *DetachmentLtdErosion* implements a commonly used incision/detachment model, in which removal of material is a power law function of discharge and (in this case) water surface slope. This is a widely applied algorithm in landscape evolution models, such as in Whipple and Tucker (1999), available <a href=\"http://onlinelibrary.wiley.com/doi/10.1029/1999JB900120/full\">here</a>. It is important to note that this component is written to work specifically with the *OverlandFlow* component, and not with steady-state hydrology, as is commonly applied in landscape evolution models.\n",
    "\n",
    "This example illustrates the importance of watershed shape on hydrograph generation and erosion patterns. This example uses two synthetic landscapes, or landscapes produced using a landscape evolution model. One landscape is square and one is rectangular. In this case the landscapes were produced using steady-state hydrology, or the assumption commonly used in landscape evolution models that discharge is equal to the produce of drainage area and rainfall rate. We use synthetic landscapes simply because it was easier to create watersheds of the same size but different shapes. However, the *OverlandFlow* and *DetachmentLtdErosion* components can be run using DEM data from real watersheds."
   ]
  },
  {
   "cell_type": "markdown",
   "metadata": {},
   "source": [
    "* Below we import Landlab components, functions for importing data, numpy and plotting tools.\n",
    "  * Don't worry about warnings if they come up."
   ]
  },
  {
   "cell_type": "code",
   "execution_count": null,
   "metadata": {
    "collapsed": false
   },
   "outputs": [],
   "source": [
    "## only needed for plotting in a jupyter notebook.\n",
    "%matplotlib inline \n",
    "\n",
    "from landlab.components import OverlandFlow, DetachmentLtdErosion\n",
    "from landlab.io import read_esri_ascii\n",
    "from landlab import imshow_grid\n",
    "import numpy as np\n",
    "import copy\n",
    "from matplotlib import pyplot as plt"
   ]
  },
  {
   "cell_type": "markdown",
   "metadata": {},
   "source": [
    "* Now we import the data for the watershed we want to run on.\n",
    "* The user can change the `basin_flag` to be `Square` or `Long` depending on the watershed to run.\n",
    "  * Discharge is calculated on links, and in this case the outlet link is already known and used for plotting purposes.\n",
    "* Ths user also chooses which storm to run. \n",
    "  * `Base` has an intensity of 5.0 mm/hr, with a duration of 2 hr.\n",
    "  * `HigherIntensity` has an intensity of 10.0 mm/hr, with a duration of 2 hr.\n",
    "  * `LongerDuration` has an intensity of 5.0 mm/hr, with a duration of 4 hr."
   ]
  },
  {
   "cell_type": "code",
   "execution_count": null,
   "metadata": {
    "collapsed": false
   },
   "outputs": [],
   "source": [
    "basin_flag = 'Square' # 'Square' or Long'\n",
    "storm_flag = 'Base' # 'Base' or'HigherIntensity' or 'LongerDuration'\n",
    "\n",
    "### If the basin flag matches one of the two select basins, the filename and\n",
    "### the outlet link to sample discharge values from for plotting.\n",
    "\n",
    "if basin_flag == 'Square':\n",
    "    watershed_dem = 'Square_TestBasin.asc'\n",
    "    link_to_sample = 299\n",
    "    node_to_sample = 300\n",
    "else:\n",
    "    watershed_dem = 'Long_TestBasin.asc'\n",
    "    link_to_sample = 149\n",
    "    node_to_sample = 150\n",
    "\n",
    "### Reading in the ESRI ASCII DEM given the filename from above, and setting\n",
    "### the topographic__elevation field.\n",
    "\n",
    "(rmg, z) = read_esri_ascii(watershed_dem, name='topographic__elevation')\n",
    "\n",
    "### remembering the initial watershed elevations for plotting purposes later\n",
    "z_initial = copy.deepcopy(z) \n",
    "\n",
    "#rmg.node_at_link_head[149] #NMG REMOVE REMOVE REMOVE!!!"
   ]
  },
  {
   "cell_type": "markdown",
   "metadata": {},
   "source": [
    "* Now we set the boundary conditions, instantiate the components, and set the appropriate storm parameters.\n",
    "  * All `NODATA` nodes in the DEM are closed boundaries and the outlet is set to an open boundary. This is all done in `rmg.set_watershed_boundary_condition(z)`.\n",
    " "
   ]
  },
  {
   "cell_type": "code",
   "execution_count": null,
   "metadata": {
    "collapsed": true
   },
   "outputs": [],
   "source": [
    "rmg.set_watershed_boundary_condition(z)\n",
    "\n",
    "of = OverlandFlow(rmg, steep_slopes=True) # instantiate OverlandFlow object\n",
    "dle = DetachmentLtdErosion(rmg, K_sp = 1.259162261 * (10**-7)) #instantiate DetachmentLtdErosion object\n",
    "\n",
    "if storm_flag == 'Base':\n",
    "    starting_precip_mmhr = 5.0\n",
    "    starting_precip_ms = starting_precip_mmhr * (2.77778 * 10 ** -7)\n",
    "    storm_duration = 7200.\n",
    "elif storm_flag == 'HigherIntensity':\n",
    "    starting_precip_mmhr = 10.0\n",
    "    starting_precip_ms = starting_precip_mmhr * (2.77778 * 10 ** -7)\n",
    "    storm_duration = 7200.\n",
    "elif storm_flag == 'LongerDuration':\n",
    "    starting_precip_mmhr = 5.0\n",
    "    starting_precip_ms = starting_precip_mmhr * (2.77778 * 10 ** -7)\n",
    "    storm_duration = 14400."
   ]
  },
  {
   "cell_type": "markdown",
   "metadata": {},
   "source": [
    "* Before we go further, let's pause to look at the landscape that we will be routing flow over."
   ]
  },
  {
   "cell_type": "code",
   "execution_count": null,
   "metadata": {
    "collapsed": false
   },
   "outputs": [],
   "source": [
    "imshow_grid(rmg, z)  # plot the DEM"
   ]
  },
  {
   "cell_type": "markdown",
   "metadata": {},
   "source": [
    "* Initialize a few more parameters, and getting ready to run the time loop and save data for plotting.\n",
    "  * These two components take time steps in *seconds*"
   ]
  },
  {
   "cell_type": "code",
   "execution_count": null,
   "metadata": {
    "collapsed": true
   },
   "outputs": [],
   "source": [
    "uplift_rate = 3.170979 * (10**-10) # m/s\n",
    "\n",
    "elapsed_time = 1.0\n",
    "model_run_time = 43200.0 # s\n",
    "\n",
    "## Lists for saving data\n",
    "discharge_at_outlet = []\n",
    "hydrograph_time = []\n",
    "incision_at_outlet = []\n",
    "\n",
    "## Setting initial fields...\n",
    "rmg['node']['surface_water__discharge'] = np.zeros(rmg.number_of_nodes)\n",
    "rmg['node']['water_surface__slope'] = np.zeros(rmg.number_of_nodes)"
   ]
  },
  {
   "cell_type": "markdown",
   "metadata": {},
   "source": [
    "* Let's run the time loop, that is, generate overland flow and erode!"
   ]
  },
  {
   "cell_type": "code",
   "execution_count": null,
   "metadata": {
    "collapsed": true
   },
   "outputs": [],
   "source": [
    "while elapsed_time < model_run_time:\n",
    "    # Setting the adaptive time step\n",
    "    of.dt = of.calc_time_step()\n",
    "\n",
    "    ## The storm starts when the model starts. While the elapsed time is less\n",
    "    ## than the storm duration, we add water to the system as rainfall.\n",
    "    if elapsed_time < (storm_duration):\n",
    "        of.rainfall_intensity =  starting_precip_ms   \n",
    "    else: # elapsed time exceeds the storm duration, rainfall ceases.\n",
    "        of.rainfall_intensity = 0.0\n",
    "\n",
    "    of.overland_flow() # Generating overland flow based on the deAlmeida solution.\n",
    "\n",
    "    ## Mapping water discharge from links (m^2/s) to nodes (m^3/s) for use\n",
    "    ## in the DetachmentLtdErosion component.\n",
    "    node_slope = (of.water_surface_slope[rmg.links_at_node] * rmg.active_link_dirs_at_node)\n",
    "    incision_Q = np.abs(of.q * rmg.dx)[rmg.links_at_node]\n",
    "    rmg['node']['surface_water__discharge'] = (incision_Q[np.arange(len(\n",
    "                                node_slope)), np.argmax(node_slope, axis=1)])\n",
    "    \n",
    "    ## Calculating water surface slope from the OverlandFlow component.\n",
    "    node_slope = node_slope.max(axis=1)\n",
    "    rmg['node']['water_surface__slope'] = node_slope\n",
    "\n",
    "    ## Eroding topographic__elevation using DetachmentLtdErosion component.\n",
    "    dle.erode(of.dt, slope='water_surface__slope')\n",
    "\n",
    "    ## Updating topographic__elevation after surface was eroded in\n",
    "    ## DetachmentLtdErosion component.\n",
    "    rmg['node']['topographic__elevation'] += uplift_rate * of.dt\n",
    "\n",
    "    ## Append time and discharge to their lists to save data and for plotting.\n",
    "    hydrograph_time.append(elapsed_time)\n",
    "    discharge_at_outlet.append(np.abs(of.q[link_to_sample]) * rmg.dx)\n",
    "    incision_at_outlet.append(dle.I[node_to_sample])\n",
    "\n",
    "    ## If one wanted to see the time evolve, uncomment below, but this \n",
    "    ## produces A LOT of output, as time steps are very short.\n",
    "    # print(elapsed_time)\n",
    "\n",
    "    ## Updating elapsed_time\n",
    "    elapsed_time += of.dt"
   ]
  },
  {
   "cell_type": "markdown",
   "metadata": {
    "collapsed": false
   },
   "source": [
    "* Let's look at the data."
   ]
  },
  {
   "cell_type": "code",
   "execution_count": null,
   "metadata": {
    "collapsed": false
   },
   "outputs": [],
   "source": [
    "## Plotting the hydrograph at the outlet\n",
    "plt.figure(1)\n",
    "plt.plot(hydrograph_time, discharge_at_outlet, color='mediumblue')\n",
    "plt.ylabel('Discharge (cms)')\n",
    "plt.xlabel('Time (seconds)')\n",
    "plt.title('Hydrograph at Watershed Outlet')\n",
    "\n",
    "## Below is if you want to save a figure.\n",
    "# files=plt.savefig('HydrographAtBasinOutlet.png')"
   ]
  },
  {
   "cell_type": "code",
   "execution_count": null,
   "metadata": {
    "collapsed": false
   },
   "outputs": [],
   "source": [
    "## Plotting the incision rate through time at the outlet\n",
    "plt.figure(2)\n",
    "plt.plot(hydrograph_time, incision_at_outlet, color='darkred')\n",
    "plt.ylabel('incision rate (m/s)')\n",
    "plt.xlabel('Time (seconds)')\n",
    "plt.title('Incision at Watershed Outlet')\n",
    "\n",
    "## Below is if you want to save a figure.\n",
    "# files=plt.savefig('HydrographAtBasinOutlet.png')"
   ]
  },
  {
   "cell_type": "markdown",
   "metadata": {},
   "source": [
    "* Let's look at the change in the topography, first including uplift.\n",
    "  * The colorbar is limited to beter show patterns.\n",
    "  * Because we didn't take out uplift, there are some locations in which elevation has actually increased."
   ]
  },
  {
   "cell_type": "code",
   "execution_count": null,
   "metadata": {
    "collapsed": false
   },
   "outputs": [],
   "source": [
    "z_diff = z - z_initial # the difference in elevation from start to finish\n",
    "imshow_grid(rmg, z_diff, limits=(-0.00004, np.max(z_diff)))  "
   ]
  },
  {
   "cell_type": "markdown",
   "metadata": {},
   "source": [
    "* We can take out uplift in order to just look at incision rates and patterns.\n",
    "  * We again limit the color bar to highlight patterns"
   ]
  },
  {
   "cell_type": "code",
   "execution_count": null,
   "metadata": {
    "collapsed": false
   },
   "outputs": [],
   "source": [
    "### this is just fluvial incision, which will be negative\n",
    "z_diff = z - z_initial - uplift_rate * model_run_time \n",
    "imshow_grid(rmg, z_diff, limits=(-0.00004, 0.0))"
   ]
  },
  {
   "cell_type": "code",
   "execution_count": null,
   "metadata": {
    "collapsed": true
   },
   "outputs": [],
   "source": []
  }
 ],
 "metadata": {
  "anaconda-cloud": {},
  "kernelspec": {
   "display_name": "Python [conda root]",
   "language": "python",
   "name": "conda-root-py"
  },
  "language_info": {
   "codemirror_mode": {
    "name": "ipython",
    "version": 2
   },
   "file_extension": ".py",
   "mimetype": "text/x-python",
   "name": "python",
   "nbconvert_exporter": "python",
   "pygments_lexer": "ipython2",
   "version": "2.7.12"
  }
 },
 "nbformat": 4,
 "nbformat_minor": 2
}
